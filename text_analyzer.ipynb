{
 "cells": [
  {
   "cell_type": "code",
   "execution_count": 1,
   "id": "ab74bf8b-f909-4516-ae45-a023348d5b9b",
   "metadata": {},
   "outputs": [],
   "source": [
    "# Data -------------------------------------------------------------------------\n",
    "TEXTS = ['''\n",
    "Situated about 10 miles west of Kemmerer, \n",
    "Fossil Butte is a ruggedly impressive \n",
    "topographic feature that rises sharply \n",
    "some 1000 feet above Twin Creek Valley \n",
    "to an elevation of more than 7500 feet \n",
    "above sea level. The butte is located just \n",
    "north of US 30N and the Union Pacific Railroad, \n",
    "which traverse the valley. ''',\n",
    "\n",
    "         '''At the base of Fossil Butte are the bright \n",
    "red, purple, yellow and gray beds of the Wasatch \n",
    "Formation. Eroded portions of these horizontal \n",
    "beds slope gradually upward from the valley floor \n",
    "and steepen abruptly. Overlying them and extending \n",
    "to the top of the butte are the much steeper \n",
    "buff-to-white beds of the Green River Formation, \n",
    "which are about 300 feet thick.''',\n",
    "\n",
    "         '''The monument contains 8198 acres and protects \n",
    "a portion of the largest deposit of freshwater fish \n",
    "fossils in the world. The richest fossil fish deposits \n",
    "are found in multiple limestone layers, which lie some \n",
    "100 feet below the top of the butte. The fossils \n",
    "represent several varieties of perch, as well as \n",
    "other freshwater genera and herring similar to those \n",
    "in modern oceans. Other fish such as paddlefish, \n",
    "garpike and stingray are also present.'''\n",
    "         ]"
   ]
  },
  {
   "cell_type": "code",
   "execution_count": 2,
   "id": "3c1778e9-b5f5-437a-9196-201afffd06e6",
   "metadata": {},
   "outputs": [
    {
     "name": "stdin",
     "output_type": "stream",
     "text": [
      "Username:  bob\n",
      "Password:  123\n"
     ]
    },
    {
     "name": "stdout",
     "output_type": "stream",
     "text": [
      "Welcome to the app, bob\n"
     ]
    },
    {
     "name": "stdin",
     "output_type": "stream",
     "text": [
      "Choose the text to be analysed (1 - Text 1, 2 - Text 2, 3 - Text 3):  3\n"
     ]
    }
   ],
   "source": [
    "# Overeni hesla -------------------------------------------------\n",
    "hesla = {\n",
    "    'uzivatel1': 'heslo',\n",
    "    'bob': '123',\n",
    "    'ann': 'pass123',\n",
    "    'mike': 'password123',\n",
    "    'liz': 'pass123'\n",
    "}\n",
    "\n",
    "# Zeptej se na uzivatelske jmeno a heslo\n",
    "username = input('Username: ')\n",
    "password = input('Password: ')\n",
    "\n",
    "# Podminkovy vyraz\n",
    "if hesla.get(username) == password:\n",
    "    print(f\"Welcome to the app, {username}\")\n",
    "\n",
    "else:\n",
    "    print('Wrong name or password')\n",
    "    exit\n",
    "\n",
    "text_choice = int(input(\"Choose the text to be analysed (1 - Text 1, 2 - Text 2, 3 - Text 3): \"))\n",
    "text_choice = text_choice - 1\n",
    "\n",
    "if text_choice == 0 or text_choice == 1 or text_choice == 2:\n",
    "    pass\n",
    "else:\n",
    "    print(\"invalid choice\")\n",
    "    exit()\n",
    "\n"
   ]
  },
  {
   "cell_type": "code",
   "execution_count": 3,
   "id": "70670f2e-fb11-40cf-981e-3c3e954cf486",
   "metadata": {},
   "outputs": [],
   "source": [
    "selected_text = TEXTS[text_choice]"
   ]
  },
  {
   "cell_type": "code",
   "execution_count": 4,
   "id": "339afa6b-2428-4a9d-8751-7625d72162d4",
   "metadata": {},
   "outputs": [],
   "source": [
    "word_count = len(selected_text.split())"
   ]
  },
  {
   "cell_type": "code",
   "execution_count": 5,
   "id": "70aac4c8-175d-4814-abfe-8903c8e3008a",
   "metadata": {},
   "outputs": [],
   "source": [
    "selected_text_list = [slovo.strip(\",.()\") for slovo in selected_text.split()]\n",
    "#selected_text_list = selected_text.split()\n",
    "\n",
    "list_capital_start=[]\n",
    "for word in selected_text_list:\n",
    "    if word[0].isupper():\n",
    "        list_capital_start.append(word)\n",
    "\n",
    "capital_start_count = len(list_capital_start)"
   ]
  },
  {
   "cell_type": "code",
   "execution_count": 6,
   "id": "90449dfc-8085-46da-9e0c-f076e3235a2d",
   "metadata": {},
   "outputs": [],
   "source": [
    "list_capital_all=[]\n",
    "for word in selected_text_list:\n",
    "    if word.isupper():\n",
    "        list_capital_all.append(word)\n",
    "\n",
    "capital_all_count = len(list_capital_all)"
   ]
  },
  {
   "cell_type": "code",
   "execution_count": 7,
   "id": "bed87672-4488-40c4-adca-ee110fe51ee5",
   "metadata": {},
   "outputs": [],
   "source": [
    "list_lowercase_all=[]\n",
    "for word in selected_text_list:\n",
    "    if word.islower():\n",
    "        list_lowercase_all.append(word)\n",
    "\n",
    "lowercase_all_count = len(list_lowercase_all)"
   ]
  },
  {
   "cell_type": "code",
   "execution_count": 8,
   "id": "81766617-302f-4028-8805-9fe7ea786efd",
   "metadata": {},
   "outputs": [],
   "source": [
    "count_numbers = 0\n",
    "for i in selected_text_list:\n",
    "      if i.isnumeric():\n",
    "        count_numbers+=1"
   ]
  },
  {
   "cell_type": "code",
   "execution_count": 9,
   "id": "c1e9a406-64d1-414c-92a9-e9b28a423817",
   "metadata": {},
   "outputs": [],
   "source": [
    "numbers_list = [] \n",
    "for i in selected_text_list:\n",
    "      if i.isnumeric():\n",
    "        numbers_list.append(i)"
   ]
  },
  {
   "cell_type": "code",
   "execution_count": 10,
   "id": "19446ce5-418d-4cdf-81ff-ca9a1cb5bf46",
   "metadata": {},
   "outputs": [],
   "source": [
    "#number_list_int = list(map(int, numbers_list))\n",
    "number_sum = sum(list(map(int, numbers_list)))"
   ]
  },
  {
   "cell_type": "code",
   "execution_count": 11,
   "id": "85396595-4ecf-43e8-aac5-0f88798135ac",
   "metadata": {},
   "outputs": [],
   "source": [
    "lengths = [len(word) for word in selected_text_list]\n",
    "max_length = max(lengths)\n",
    "tallies = [0 for x in range(max_length+1)]\n",
    "\n",
    "for length in lengths:\n",
    "   tallies[length] += 1"
   ]
  },
  {
   "cell_type": "code",
   "execution_count": 12,
   "id": "deda3325-332a-422c-ae05-273884e66a30",
   "metadata": {},
   "outputs": [
    {
     "data": {
      "text/plain": [
       "0"
      ]
     },
     "execution_count": 12,
     "metadata": {},
     "output_type": "execute_result"
    }
   ],
   "source": [
    "tallies.pop(0)"
   ]
  },
  {
   "cell_type": "code",
   "execution_count": 13,
   "id": "289bc232-35bc-402d-8444-0d780bf226b9",
   "metadata": {},
   "outputs": [],
   "source": [
    "import numpy as np   \n",
    "    \n",
    "def unique(lengths):\n",
    "    x = np.array(lengths)\n",
    "    print(np.unique(x))\n",
    "    \n",
    "freq_keys = np.unique(lengths)"
   ]
  },
  {
   "cell_type": "code",
   "execution_count": 14,
   "id": "178212bd-ab50-4e7a-a23c-c73730fbf682",
   "metadata": {},
   "outputs": [],
   "source": [
    "#def createList(r1, r2):\n",
    "#    return list(range(r1, r2+1))\n",
    "#\n",
    "#r1, r2 = 1, max_length\n",
    "#freq_keys = createList(r1, r2)"
   ]
  },
  {
   "cell_type": "code",
   "execution_count": 15,
   "id": "be1ae3d0-bba4-49c9-a5e9-88adf5f29f62",
   "metadata": {},
   "outputs": [],
   "source": [
    "frequencies = dict(zip(freq_keys, tallies))"
   ]
  },
  {
   "cell_type": "code",
   "execution_count": 16,
   "id": "52a73f00-2d71-45d4-b9b6-37d557700eb2",
   "metadata": {},
   "outputs": [
    {
     "name": "stdout",
     "output_type": "stream",
     "text": [
      "There are 74 in the selected text.\n"
     ]
    }
   ],
   "source": [
    "print(f\"There are {word_count} in the selected text.\")"
   ]
  },
  {
   "cell_type": "code",
   "execution_count": 17,
   "id": "fa9cc057-baa7-478e-a9da-737233aaeda0",
   "metadata": {},
   "outputs": [
    {
     "name": "stdout",
     "output_type": "stream",
     "text": [
      "There are 4 titlecase words.\n"
     ]
    }
   ],
   "source": [
    "print(f\"There are {capital_start_count} titlecase words.\")"
   ]
  },
  {
   "cell_type": "code",
   "execution_count": 18,
   "id": "7a39a397-f318-4db4-bd79-f4bf9fcced5a",
   "metadata": {},
   "outputs": [
    {
     "name": "stdout",
     "output_type": "stream",
     "text": [
      "There are 0 uppercase words.\n"
     ]
    }
   ],
   "source": [
    "print(f\"There are {capital_all_count} uppercase words.\")"
   ]
  },
  {
   "cell_type": "code",
   "execution_count": 19,
   "id": "642934d6-bcaa-49b1-9044-936a406f3acc",
   "metadata": {},
   "outputs": [
    {
     "name": "stdout",
     "output_type": "stream",
     "text": [
      "There are 68 lowercase words.\n"
     ]
    }
   ],
   "source": [
    "print(f\"There are {lowercase_all_count} lowercase words.\")"
   ]
  },
  {
   "cell_type": "code",
   "execution_count": 20,
   "id": "28222c11-c185-4bc5-a452-96efcfb2d4d4",
   "metadata": {},
   "outputs": [
    {
     "name": "stdout",
     "output_type": "stream",
     "text": [
      "There are 2 numeric strings.\n"
     ]
    }
   ],
   "source": [
    "print(f\"There are {count_numbers} numeric strings.\")"
   ]
  },
  {
   "cell_type": "code",
   "execution_count": 21,
   "id": "8c22e7dd-00df-4a18-9661-750518b7acc2",
   "metadata": {},
   "outputs": [
    {
     "name": "stdout",
     "output_type": "stream",
     "text": [
      "The sum of all the numbers is 8298\n"
     ]
    }
   ],
   "source": [
    "print(f\"The sum of all the numbers is {number_sum}\")"
   ]
  },
  {
   "cell_type": "code",
   "execution_count": 22,
   "id": "3de5b840-bd6a-447e-ac8d-ad17b54bd99e",
   "metadata": {},
   "outputs": [
    {
     "name": "stdout",
     "output_type": "stream",
     "text": [
      "LEN| OCCURANCE| NR.\n",
      "1 * 1\n",
      "2 ** 11\n",
      "3 *** 15\n",
      "4 **** 9\n",
      "5 ***** 10\n",
      "6 ****** 5\n",
      "7 ******* 11\n",
      "8 ******** 6\n",
      "9 ********* 3\n",
      "10 ********** 3\n"
     ]
    }
   ],
   "source": [
    "print(\"LEN|\",\"OCCURANCE|\",\"NR.\")\n",
    "for key, value in frequencies.items() :\n",
    "    print (key,\"*\"*key ,value)"
   ]
  }
 ],
 "metadata": {
  "kernelspec": {
   "display_name": "Python 3 (ipykernel)",
   "language": "python",
   "name": "python3"
  },
  "language_info": {
   "codemirror_mode": {
    "name": "ipython",
    "version": 3
   },
   "file_extension": ".py",
   "mimetype": "text/x-python",
   "name": "python",
   "nbconvert_exporter": "python",
   "pygments_lexer": "ipython3",
   "version": "3.8.11"
  }
 },
 "nbformat": 4,
 "nbformat_minor": 5
}
